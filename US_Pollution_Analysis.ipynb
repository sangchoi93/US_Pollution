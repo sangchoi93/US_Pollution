{
 "cells": [
  {
   "cell_type": "markdown",
   "metadata": {},
   "source": [
    "Importing datasets into pandas"
   ]
  },
  {
   "cell_type": "code",
   "execution_count": 1,
   "metadata": {},
   "outputs": [
    {
     "name": "stdout",
     "output_type": "stream",
     "text": [
      "Warning: Your Kaggle API key is readable by other users on this system! To fix this, you can run 'chmod 600 /Users/sangchoi/.kaggle/kaggle.json'\n"
     ]
    }
   ],
   "source": [
    "import matplotlib as plt\n",
    "import kaggle\n",
    "import zipfile\n",
    "import pandas as pd\n",
    "import numpy as np\n",
    "import os\n",
    "import pickle\n"
   ]
  },
  {
   "cell_type": "code",
   "execution_count": 2,
   "metadata": {},
   "outputs": [],
   "source": [
    "#downloading pollution_us dataset if doesnt exist locally\n",
    "us_pollution_filename = 'pollution_us_2000_2016.csv'\n",
    "if not(os.path.isfile(us_pollution_filename)):\n",
    "    kaggle.api.dataset_download_file('sogun3/uspollution', us_pollution_filename)\n",
    "    zip_ref = zipfile.ZipFile(us_pollution_filename+'.zip', 'r')\n",
    "    zip_ref.extractall()\n",
    "    zip_ref.close()\n",
    "df_us_pollution = pd.read_csv(us_pollution_filename)"
   ]
  },
  {
   "cell_type": "code",
   "execution_count": 3,
   "metadata": {},
   "outputs": [],
   "source": [
    "#assuming resp dataset already exists locally\n",
    "resp_data_path = 'IHME_USA_COUNTY_RESP_DISEASE_MORTALITY_1980_2014_NATIONAL_Y2017M09D26.XLSX'\n",
    "list_sheet_names = ['Chronic respiratory diseases', 'Chronic obstructive pulmonary ', 'Pneumoconiosis', 'Silicosis',\n",
    "                   'Asbestosis', 'Coal workers pneumoconiosis', 'Other pneumoconiosis', 'Asthma', 'Interstitial lung disease',\n",
    "                   'Other chronic respiratory ']\n",
    "df_resp_disease = pd.read_excel(resp_data_path, skiprows=1, sheet_name=list_sheet_names)\n"
   ]
  },
  {
   "cell_type": "code",
   "execution_count": 4,
   "metadata": {},
   "outputs": [],
   "source": [
    "for x in list_sheet_names:\n",
    "    #dropping mortality rate measured below year 2000\n",
    "    #dropping any na values\n",
    "    df_resp_disease[x].drop(['Mortality Rate, 1980*', 'Mortality Rate, 1985*', 'Mortality Rate, 1990*', 'Mortality Rate, 1995*'],\n",
    "                           inplace=True, errors='ignore', axis=1)\n",
    "    df_resp_disease[x].dropna(inplace=True)\n",
    "    #dropping county data, state mortality rate is average of all counties\n",
    "    df_resp_disease[x].drop(df_resp_disease[x][df_resp_disease[x].FIPS>57].index, inplace=True)\n",
    "#     #Extracting state out of Location\n",
    "#     df_resp_disease[x]['state'] = df_resp_disease[x]['Location']\\\n",
    "#     .apply(lambda x: x.split(',')[1].strip() if len(x.split(',')) > 1 else x.strip())\n",
    "    df_resp_disease[x]['mortality_2000'] = df_resp_disease[x]['Mortality Rate, 2000*']\\\n",
    "    .apply(lambda x: x.split(' ')[0].strip())\n",
    "    df_resp_disease[x]['mortality_2005'] = df_resp_disease[x]['Mortality Rate, 2005*']\\\n",
    "    .apply(lambda x: x.split(' ')[0].strip())\n",
    "    df_resp_disease[x]['mortality_2010'] = df_resp_disease[x]['Mortality Rate, 2010*']\\\n",
    "    .apply(lambda x: x.split(' ')[0].strip())\n",
    "    df_resp_disease[x]['mortality_2014'] = df_resp_disease[x]['Mortality Rate, 2014*']\\\n",
    "    .apply(lambda x: x.split(' ')[0].strip())\n",
    "    df_resp_disease[x].drop(['Mortality Rate, 2000*', 'Mortality Rate, 2005*', \\\n",
    "                             'Mortality Rate, 2010*', 'Mortality Rate, 2014*', \\\n",
    "                            '% Change in Mortality Rate, 1980-2014'], axis=1, inplace=True)\n"
   ]
  },
  {
   "cell_type": "code",
   "execution_count": 5,
   "metadata": {},
   "outputs": [],
   "source": [
    "#stacking all sheets into one dataframe vertically\n",
    "df_resp_mortality_cleaned = pd.DataFrame()\n",
    "for x in list_sheet_names:\n",
    "    for column in ['mortality_2000','mortality_2005','mortality_2010','mortality_2014']:\n",
    "        df_tmp = pd.DataFrame(df_resp_disease[x][column]).rename(columns={column : 'mortality_rate'})\n",
    "        df_tmp['year']=int(column[-4:])\n",
    "        df_tmp['disease']=x\n",
    "        df_tmp['state']=df_resp_disease[x].Location\n",
    "        df_resp_mortality_cleaned = df_resp_mortality_cleaned.append(df_tmp)\n",
    "\n",
    "df_resp_mortality_cleaned.reset_index(inplace=True, drop=True)\n",
    "pickle.dump( df_resp_mortality_cleaned, open( 'df_resp_mortality.pkl', \"wb\" ) )\n",
    "\n",
    "#stacking all sheets into one dataframe horizontally\n",
    "df_resp_mortality_horizontal_stack = pd.DataFrame()\n",
    "for column in ['mortality_2000', 'mortality_2005', 'mortality_2010', 'mortality_2014']:\n",
    "    df_tmp = pd.DataFrame()\n",
    "    df_tmp['state']=df_resp_disease[x].Location\n",
    "    for x in list_sheet_names:\n",
    "        df_tmp[x] = df_resp_disease[x][column].astype(float)\n",
    "        df_tmp['year']=int(column[-4:])\n",
    "\n",
    "    df_resp_mortality_horizontal_stack = df_resp_mortality_horizontal_stack.append(df_tmp)\n",
    "\n",
    "df_resp_mortality_horizontal_stack.reset_index(inplace=True, drop=True)\n",
    "pickle.dump( df_resp_mortality_horizontal_stack, open( 'df_resp_mortality_horizontal_stack.pkl', \"wb\" ) )\n"
   ]
  },
  {
   "cell_type": "code",
   "execution_count": 6,
   "metadata": {},
   "outputs": [],
   "source": [
    "#df_us_pollution does not have data for all counties, therefore need to do it based on state\n",
    "#need to aggregate by year in date local field to match with mortality data ([2000, 2005, 2010, 2014])\n",
    "df_us_pollution['year'] = pd.DatetimeIndex(df_us_pollution['Date Local']).year\n",
    "series_year_data = df_us_pollution['year']\n",
    "df_us_pollution['year_bin'] = np.where(series_year_data<=2000, 2000,\n",
    "                                      np.where(np.logical_and(series_year_data>2000, series_year_data<=2005), 2005,\n",
    "                                      np.where(np.logical_and(series_year_data>2005, series_year_data<=2010), 2010, \n",
    "                                      np.where(np.logical_and(series_year_data>2010, series_year_data<=2014), 2014, np.nan))))\n",
    "df_us_pollution_cleaned = df_us_pollution.drop(['State Code', 'County Code', 'Site Num', 'Address', 'County', 'City', \n",
    "                                                'Date Local'], axis=1)\n",
    "pickle.dump( df_us_pollution_cleaned, open( 'df_us_pollution.pkl', \"wb\" ) )\n"
   ]
  },
  {
   "cell_type": "code",
   "execution_count": 7,
   "metadata": {},
   "outputs": [],
   "source": [
    "#merging pollutio data and respiratory mortality rate data\n",
    "df_merged = df_us_pollution_cleaned.merge(df_resp_mortality_horizontal_stack, left_on=['State','year_bin'], right_on=['state','year'])"
   ]
  },
  {
   "cell_type": "code",
   "execution_count": 8,
   "metadata": {},
   "outputs": [],
   "source": [
    "df_merged_tmp = df_merged.drop(['Unnamed: 0', 'state', 'year_y', 'year_x',  'NO2 Units', \n",
    "                                'O3 Units', 'O3 1st Max Value', 'NO2 1st Max Value', 'O3 1st Max Value'\n",
    "                                'NO2 1st Max Value','NO2 1st Max Hour', 'NO2 AQI', 'O3 Units'\n",
    "                               'O3 1st Max Value', 'O3 1st Max Hour', 'O3 AQI', 'SO2 Units',\n",
    "                                'SO2 1st Max Value', 'SO2 1st Max Hour', 'SO2 AQI',\n",
    "                               'CO Units', 'CO 1st Max Value', 'CO 1st Max Hour', 'CO AQI'],axis=1, errors='ignore')"
   ]
  },
  {
   "cell_type": "code",
   "execution_count": 9,
   "metadata": {},
   "outputs": [],
   "source": [
    "#calculating corr coefficient\n",
    "correlation_graph = df_merged_tmp.corr()"
   ]
  },
  {
   "cell_type": "code",
   "execution_count": 12,
   "metadata": {},
   "outputs": [
    {
     "data": {
      "text/html": [
       "<div>\n",
       "<style scoped>\n",
       "    .dataframe tbody tr th:only-of-type {\n",
       "        vertical-align: middle;\n",
       "    }\n",
       "\n",
       "    .dataframe tbody tr th {\n",
       "        vertical-align: top;\n",
       "    }\n",
       "\n",
       "    .dataframe thead th {\n",
       "        text-align: right;\n",
       "    }\n",
       "</style>\n",
       "<table border=\"1\" class=\"dataframe\">\n",
       "  <thead>\n",
       "    <tr style=\"text-align: right;\">\n",
       "      <th></th>\n",
       "      <th>NO2 Mean</th>\n",
       "      <th>O3 Mean</th>\n",
       "      <th>SO2 Mean</th>\n",
       "      <th>CO Mean</th>\n",
       "    </tr>\n",
       "  </thead>\n",
       "  <tbody>\n",
       "    <tr>\n",
       "      <th>Chronic respiratory diseases</th>\n",
       "      <td>-0.084281</td>\n",
       "      <td>0.072007</td>\n",
       "      <td>0.009068</td>\n",
       "      <td>-0.074018</td>\n",
       "    </tr>\n",
       "    <tr>\n",
       "      <th>Chronic obstructive pulmonary</th>\n",
       "      <td>-0.077103</td>\n",
       "      <td>0.072116</td>\n",
       "      <td>0.000414</td>\n",
       "      <td>-0.066430</td>\n",
       "    </tr>\n",
       "    <tr>\n",
       "      <th>Pneumoconiosis</th>\n",
       "      <td>-0.029467</td>\n",
       "      <td>0.032371</td>\n",
       "      <td>0.309687</td>\n",
       "      <td>-0.153776</td>\n",
       "    </tr>\n",
       "    <tr>\n",
       "      <th>Silicosis</th>\n",
       "      <td>0.059959</td>\n",
       "      <td>0.013011</td>\n",
       "      <td>0.217579</td>\n",
       "      <td>-0.084917</td>\n",
       "    </tr>\n",
       "    <tr>\n",
       "      <th>Asbestosis</th>\n",
       "      <td>-0.067774</td>\n",
       "      <td>-0.000844</td>\n",
       "      <td>0.135031</td>\n",
       "      <td>-0.128503</td>\n",
       "    </tr>\n",
       "    <tr>\n",
       "      <th>Coal workers pneumoconiosis</th>\n",
       "      <td>-0.003256</td>\n",
       "      <td>0.034202</td>\n",
       "      <td>0.311122</td>\n",
       "      <td>-0.118686</td>\n",
       "    </tr>\n",
       "    <tr>\n",
       "      <th>Other pneumoconiosis</th>\n",
       "      <td>-0.078546</td>\n",
       "      <td>0.040401</td>\n",
       "      <td>0.198408</td>\n",
       "      <td>-0.162585</td>\n",
       "    </tr>\n",
       "    <tr>\n",
       "      <th>Asthma</th>\n",
       "      <td>0.205486</td>\n",
       "      <td>-0.058111</td>\n",
       "      <td>0.209700</td>\n",
       "      <td>0.273926</td>\n",
       "    </tr>\n",
       "    <tr>\n",
       "      <th>Interstitial lung disease</th>\n",
       "      <td>-0.206252</td>\n",
       "      <td>0.053158</td>\n",
       "      <td>-0.148211</td>\n",
       "      <td>-0.150353</td>\n",
       "    </tr>\n",
       "    <tr>\n",
       "      <th>Other chronic respiratory</th>\n",
       "      <td>-0.171787</td>\n",
       "      <td>0.058512</td>\n",
       "      <td>0.057859</td>\n",
       "      <td>-0.216034</td>\n",
       "    </tr>\n",
       "  </tbody>\n",
       "</table>\n",
       "</div>"
      ],
      "text/plain": [
       "                                NO2 Mean   O3 Mean  SO2 Mean   CO Mean\n",
       "Chronic respiratory diseases   -0.084281  0.072007  0.009068 -0.074018\n",
       "Chronic obstructive pulmonary  -0.077103  0.072116  0.000414 -0.066430\n",
       "Pneumoconiosis                 -0.029467  0.032371  0.309687 -0.153776\n",
       "Silicosis                       0.059959  0.013011  0.217579 -0.084917\n",
       "Asbestosis                     -0.067774 -0.000844  0.135031 -0.128503\n",
       "Coal workers pneumoconiosis    -0.003256  0.034202  0.311122 -0.118686\n",
       "Other pneumoconiosis           -0.078546  0.040401  0.198408 -0.162585\n",
       "Asthma                          0.205486 -0.058111  0.209700  0.273926\n",
       "Interstitial lung disease      -0.206252  0.053158 -0.148211 -0.150353\n",
       "Other chronic respiratory      -0.171787  0.058512  0.057859 -0.216034"
      ]
     },
     "execution_count": 12,
     "metadata": {},
     "output_type": "execute_result"
    }
   ],
   "source": [
    "#transforming the result table to more readable format\n",
    "correlation_graph[:4][list_sheet_names].T"
   ]
  },
  {
   "cell_type": "code",
   "execution_count": null,
   "metadata": {},
   "outputs": [],
   "source": [
    "pickle.dump( correlation_graph, open( 'correlation_table.pkl', \"wb\" ) )"
   ]
  }
 ],
 "metadata": {
  "kernelspec": {
   "display_name": "Python 3",
   "language": "python",
   "name": "python3"
  },
  "language_info": {
   "codemirror_mode": {
    "name": "ipython",
    "version": 3
   },
   "file_extension": ".py",
   "mimetype": "text/x-python",
   "name": "python",
   "nbconvert_exporter": "python",
   "pygments_lexer": "ipython3",
   "version": "3.7.3"
  }
 },
 "nbformat": 4,
 "nbformat_minor": 2
}
